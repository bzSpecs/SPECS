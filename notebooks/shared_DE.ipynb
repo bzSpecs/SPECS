{
 "cells": [
  {
   "cell_type": "code",
   "execution_count": 109,
   "metadata": {},
   "outputs": [],
   "source": [
    "import pandas as pd\n",
    "import json\n",
    "import os\n",
    "import ipdb\n",
    "import numpy as np"
   ]
  },
  {
   "cell_type": "code",
   "execution_count": 135,
   "metadata": {},
   "outputs": [],
   "source": [
    "config_file_path = input()\n",
    "config_file = open(config_file_path)\n",
    "config = json.load(config_file)"
   ]
  },
  {
   "cell_type": "code",
   "execution_count": 136,
   "metadata": {},
   "outputs": [],
   "source": [
    "output_folder = os.path.join(config['output_folder'], config['experiment_name'])\n",
    "if not os.path.exists(output_folder):\n",
    "    os.makedirs(output_folder)"
   ]
  },
  {
   "cell_type": "code",
   "execution_count": 126,
   "metadata": {},
   "outputs": [],
   "source": [
    "def save_df_to_csv(df, output_file):\n",
    "    # create the folder if not exists yet\n",
    "    if not os.path.exists(os.path.dirname(output_file)):\n",
    "        os.makedirs(os.path.dirname(output_file))\n",
    "\n",
    "    # Write DataFrame to csv file\n",
    "    df.to_csv(output_file, index=False)"
   ]
  },
  {
   "cell_type": "code",
   "execution_count": 127,
   "metadata": {},
   "outputs": [],
   "source": [
    "def read_experimental_dfs(config):\n",
    "    dfs = []\n",
    "\n",
    "    for file in config[\"files\"]:\n",
    "        df = pd.read_csv(file)\n",
    "        df = df.rename(columns={df.columns[0]: \"unique_17\"})\n",
    "        dfs.append(df)\n",
    "\n",
    "    return dfs"
   ]
  },
  {
   "cell_type": "code",
   "execution_count": 137,
   "metadata": {},
   "outputs": [],
   "source": [
    "lib_csv_path = config[\"lib_csv_path\"]\n",
    "lib_df = pd.read_csv(lib_csv_path)"
   ]
  },
  {
   "cell_type": "code",
   "execution_count": 138,
   "metadata": {},
   "outputs": [],
   "source": [
    "dfs = read_experimental_dfs(config)"
   ]
  },
  {
   "cell_type": "code",
   "execution_count": 139,
   "metadata": {},
   "outputs": [
    {
     "data": {
      "text/html": [
       "<div>\n",
       "<style scoped>\n",
       "    .dataframe tbody tr th:only-of-type {\n",
       "        vertical-align: middle;\n",
       "    }\n",
       "\n",
       "    .dataframe tbody tr th {\n",
       "        vertical-align: top;\n",
       "    }\n",
       "\n",
       "    .dataframe thead th {\n",
       "        text-align: right;\n",
       "    }\n",
       "</style>\n",
       "<table border=\"1\" class=\"dataframe\">\n",
       "  <thead>\n",
       "    <tr style=\"text-align: right;\">\n",
       "      <th></th>\n",
       "      <th>unique_17</th>\n",
       "      <th>CD4_mean</th>\n",
       "      <th>DS_mean</th>\n",
       "      <th>M</th>\n",
       "      <th>D</th>\n",
       "      <th>prob</th>\n",
       "      <th>ranking</th>\n",
       "    </tr>\n",
       "  </thead>\n",
       "  <tbody>\n",
       "    <tr>\n",
       "      <th>0</th>\n",
       "      <td>CGTCCTGTGATCAAGGG</td>\n",
       "      <td>309.161169</td>\n",
       "      <td>0.430100</td>\n",
       "      <td>9.489471</td>\n",
       "      <td>308.731069</td>\n",
       "      <td>0.971130</td>\n",
       "      <td>308.876873</td>\n",
       "    </tr>\n",
       "    <tr>\n",
       "      <th>1</th>\n",
       "      <td>ATCAGTGCTCTTTATGG</td>\n",
       "      <td>589.818117</td>\n",
       "      <td>3.655852</td>\n",
       "      <td>7.333919</td>\n",
       "      <td>586.162265</td>\n",
       "      <td>0.966497</td>\n",
       "      <td>586.208143</td>\n",
       "    </tr>\n",
       "    <tr>\n",
       "      <th>2</th>\n",
       "      <td>AAAGAGCTGGGGGCATT</td>\n",
       "      <td>871.242486</td>\n",
       "      <td>13.333107</td>\n",
       "      <td>6.029989</td>\n",
       "      <td>857.909379</td>\n",
       "      <td>0.943051</td>\n",
       "      <td>857.930570</td>\n",
       "    </tr>\n",
       "    <tr>\n",
       "      <th>3</th>\n",
       "      <td>GTCGTTCCAATCGTCCA</td>\n",
       "      <td>941.297091</td>\n",
       "      <td>19.784610</td>\n",
       "      <td>5.572200</td>\n",
       "      <td>921.512481</td>\n",
       "      <td>0.930297</td>\n",
       "      <td>921.529328</td>\n",
       "    </tr>\n",
       "    <tr>\n",
       "      <th>4</th>\n",
       "      <td>GTCCACTTCGGGAAACA</td>\n",
       "      <td>9558.232808</td>\n",
       "      <td>346.230677</td>\n",
       "      <td>4.786938</td>\n",
       "      <td>9212.002132</td>\n",
       "      <td>0.907797</td>\n",
       "      <td>9212.003375</td>\n",
       "    </tr>\n",
       "  </tbody>\n",
       "</table>\n",
       "</div>"
      ],
      "text/plain": [
       "           unique_17     CD4_mean     DS_mean         M            D  \\\n",
       "0  CGTCCTGTGATCAAGGG   309.161169    0.430100  9.489471   308.731069   \n",
       "1  ATCAGTGCTCTTTATGG   589.818117    3.655852  7.333919   586.162265   \n",
       "2  AAAGAGCTGGGGGCATT   871.242486   13.333107  6.029989   857.909379   \n",
       "3  GTCGTTCCAATCGTCCA   941.297091   19.784610  5.572200   921.512481   \n",
       "4  GTCCACTTCGGGAAACA  9558.232808  346.230677  4.786938  9212.002132   \n",
       "\n",
       "       prob      ranking  \n",
       "0  0.971130   308.876873  \n",
       "1  0.966497   586.208143  \n",
       "2  0.943051   857.930570  \n",
       "3  0.930297   921.529328  \n",
       "4  0.907797  9212.003375  "
      ]
     },
     "execution_count": 139,
     "metadata": {},
     "output_type": "execute_result"
    }
   ],
   "source": [
    "dfs[0].head()"
   ]
  },
  {
   "cell_type": "code",
   "execution_count": 140,
   "metadata": {},
   "outputs": [
    {
     "data": {
      "text/plain": [
       "630"
      ]
     },
     "execution_count": 140,
     "metadata": {},
     "output_type": "execute_result"
    }
   ],
   "source": [
    "dfs[0].shape[0]"
   ]
  },
  {
   "cell_type": "code",
   "execution_count": 141,
   "metadata": {},
   "outputs": [],
   "source": [
    "def run_experiment_analysis(dfs):\n",
    "    shared_de = dfs[0]['unique_17'].copy()\n",
    "    for i in range(1, len(dfs)):\n",
    "        df = dfs[i]\n",
    "        shared_de = pd.Series(list(set(shared_de) & set(df['unique_17'])))\n",
    "\n",
    "    return shared_de"
   ]
  },
  {
   "cell_type": "code",
   "execution_count": 142,
   "metadata": {},
   "outputs": [],
   "source": [
    "overall_de = run_experiment_analysis(dfs)"
   ]
  },
  {
   "cell_type": "code",
   "execution_count": 143,
   "metadata": {},
   "outputs": [
    {
     "data": {
      "text/plain": [
       "0     TAACCGAAACCCAACCG\n",
       "1     CAGATCCGGCAGGAAGA\n",
       "2     GGTTTTCTGCTGACTAA\n",
       "3     GAAGCTCTGTGAGATTT\n",
       "4     AGTCCAGGTTTTATCTC\n",
       "5     AAACCCTGTATGCCAAG\n",
       "6     GCTTAGGAGCACTTGTA\n",
       "7     TACGCGATGTCAGAGCT\n",
       "8     CTCTCTTGTCCCGCGAT\n",
       "9     GGAGTGGCTAAATCTAA\n",
       "10    TTCGCAATGCTCTTCGG\n",
       "11    AACGATCTGCCGACATA\n",
       "12    AGGGTCATAACACCCAG\n",
       "13    ATGATCACGTAGCCTAT\n",
       "14    TCGTGCTTAAACTCCTG\n",
       "15    AAAGAGCTGGGGGCATT\n",
       "16    ACGTCTGGCATGCAACC\n",
       "17    CCTCTTAACCTCAGCCC\n",
       "18    CATCAGAGTGTTTGATC\n",
       "19    GGAATCCTGATAACAGG\n",
       "20    TGACACTCGAGCTATAC\n",
       "21    CTTAGTGCCGCCGTTTT\n",
       "22    CAGGAGCCGGAACTTAG\n",
       "23    CAACCCCGGACCCATAT\n",
       "24    CGTCCTGTGATCAAGGG\n",
       "25    AACAACAAATAGAGCCC\n",
       "dtype: object"
      ]
     },
     "execution_count": 143,
     "metadata": {},
     "output_type": "execute_result"
    }
   ],
   "source": [
    "overall_de"
   ]
  },
  {
   "cell_type": "code",
   "execution_count": null,
   "metadata": {},
   "outputs": [],
   "source": [
    "# T - 0.8\n",
    "# 0    CTTAGTGCCGCCGTTTT\n",
    "# 1    TAACCGAAACCCAACCG\n",
    "# 2    AAAGAGCTGGGGGCATT\n",
    "# 3    CAACCCCGGACCCATAT\n",
    "# 4    CTCTCTTGTCCCGCGAT\n",
    "# 5    CCTCTTAACCTCAGCCC\n",
    "# 6    AGGGTCATAACACCCAG"
   ]
  },
  {
   "cell_type": "code",
   "execution_count": null,
   "metadata": {},
   "outputs": [],
   "source": [
    "# T - 0.7\n",
    "# 0     CTTAGTGCCGCCGTTTT\n",
    "# 1     GCTTAGGAGCACTTGTA\n",
    "# 2     TACGCGATGTCAGAGCT\n",
    "# 3     TAACCGAAACCCAACCG\n",
    "# 4     CTCTCTTGTCCCGCGAT\n",
    "# 5     AAAGAGCTGGGGGCATT\n",
    "# 6     CAACCCCGGACCCATAT\n",
    "# 7     CCTCTTAACCTCAGCCC\n",
    "# 8     GGAATCCTGATAACAGG\n",
    "# 9     AGGGTCATAACACCCAG\n",
    "# 10    AACAACAAATAGAGCCC"
   ]
  },
  {
   "cell_type": "code",
   "execution_count": null,
   "metadata": {},
   "outputs": [],
   "source": [
    "# T - 0.6\n",
    "# 0     CTTAGTGCCGCCGTTTT\n",
    "# 1     GCTTAGGAGCACTTGTA\n",
    "# 2     TACGCGATGTCAGAGCT\n",
    "# 3     ATGATCACGTAGCCTAT\n",
    "# 4     TAACCGAAACCCAACCG\n",
    "# 5     CAGATCCGGCAGGAAGA\n",
    "# 6     CTCTCTTGTCCCGCGAT\n",
    "# 7     TCGTGCTTAAACTCCTG\n",
    "# 8     AAAGAGCTGGGGGCATT\n",
    "# 9     GGAGTGGCTAAATCTAA\n",
    "# 10    CAACCCCGGACCCATAT\n",
    "# 11    CGTCCTGTGATCAAGGG\n",
    "# 12    ACGTCTGGCATGCAACC\n",
    "# 13    AGTCCAGGTTTTATCTC\n",
    "# 14    CCTCTTAACCTCAGCCC\n",
    "# 15    GGAATCCTGATAACAGG\n",
    "# 16    AGGGTCATAACACCCAG\n",
    "# 17    AACAACAAATAGAGCCC"
   ]
  },
  {
   "cell_type": "code",
   "execution_count": null,
   "metadata": {},
   "outputs": [],
   "source": [
    "# T - 0.55\n",
    "# 0     TAACCGAAACCCAACCG\n",
    "# 1     CAGATCCGGCAGGAAGA\n",
    "# 2     GGTTTTCTGCTGACTAA\n",
    "# 3     GAAGCTCTGTGAGATTT\n",
    "# 4     AGTCCAGGTTTTATCTC\n",
    "# 5     AAACCCTGTATGCCAAG\n",
    "# 6     GCTTAGGAGCACTTGTA\n",
    "# 7     TACGCGATGTCAGAGCT\n",
    "# 8     CTCTCTTGTCCCGCGAT\n",
    "# 9     GGAGTGGCTAAATCTAA\n",
    "# 10    TTCGCAATGCTCTTCGG\n",
    "# 11    AACGATCTGCCGACATA\n",
    "# 12    AGGGTCATAACACCCAG\n",
    "# 13    ATGATCACGTAGCCTAT\n",
    "# 14    TCGTGCTTAAACTCCTG\n",
    "# 15    AAAGAGCTGGGGGCATT\n",
    "# 16    ACGTCTGGCATGCAACC\n",
    "# 17    CCTCTTAACCTCAGCCC\n",
    "# 18    CATCAGAGTGTTTGATC\n",
    "# 19    GGAATCCTGATAACAGG\n",
    "# 20    TGACACTCGAGCTATAC\n",
    "# 21    CTTAGTGCCGCCGTTTT\n",
    "# 22    CAGGAGCCGGAACTTAG\n",
    "# 23    CAACCCCGGACCCATAT\n",
    "# 24    CGTCCTGTGATCAAGGG\n",
    "# 25    AACAACAAATAGAGCCC"
   ]
  }
 ],
 "metadata": {
  "interpreter": {
   "hash": "70b838359764d1d529f23188ff72e6bf01483479c193c40f5e02842d85becc68"
  },
  "kernelspec": {
   "display_name": "Python 3.8.12 ('bio')",
   "language": "python",
   "name": "python3"
  },
  "language_info": {
   "codemirror_mode": {
    "name": "ipython",
    "version": 3
   },
   "file_extension": ".py",
   "mimetype": "text/x-python",
   "name": "python",
   "nbconvert_exporter": "python",
   "pygments_lexer": "ipython3",
   "version": "3.8.12"
  },
  "orig_nbformat": 4
 },
 "nbformat": 4,
 "nbformat_minor": 2
}
